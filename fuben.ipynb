{
 "cells": [
  {
   "cell_type": "code",
   "execution_count": 39,
   "metadata": {},
   "outputs": [],
   "source": [
    "# coding = utf-8\n",
    "\n",
    "# 永恒岛手游自动副本一条龙\n",
    "\n",
    "import cv2 as cv\n",
    "import numpy as np\n",
    "import time\n",
    "import os\n",
    "import pyautogui\n",
    "import schedule\n",
    "from datetime import datetime, timedelta\n",
    "\n",
    "pyautogui.FAILSAFE = False\n",
    "\n",
    "# 备用运行\n",
    "##schedule.every().day.at(\"15:52\").do(job)\n",
    "##while 1:\n",
    "##    schedule.run_pending()\n",
    "##    time.sleep(1)\n"
   ]
  },
  {
   "cell_type": "code",
   "execution_count": 40,
   "metadata": {},
   "outputs": [],
   "source": [
    "# 自定义报错\n",
    "\n",
    "class NoBottomFoundException(Exception):\n",
    "    pass\n",
    "\n",
    "class ExceedsRetryTimes(Exception):\n",
    "    pass\n"
   ]
  },
  {
   "cell_type": "code",
   "execution_count": 41,
   "metadata": {},
   "outputs": [],
   "source": [
    "# 进入副本与返回城镇相关按钮\n",
    "\n",
    "bottom_1 = 'screenshot/bottom1.PNG'\n",
    "bottom_2 = 'screenshot/bottom2.PNG'\n",
    "bottom_3 = 'screenshot/bottom3.PNG'\n",
    "enter = 'screenshot/enter.PNG'\n",
    "close_0 = 'screenshot/close0.PNG'\n",
    "close_1 = 'screenshot/close1.PNG'\n",
    "close_2 = 'screenshot/close2.PNG'\n",
    "finsihed = 'screenshot/finished.PNG'\n",
    "\n",
    "ptdrag = 'screenshot/ptdrag.PNG'\n",
    "ptfuben = 'screenshot/ptfb.PNG'\n",
    "tzdrag = 'screenshot/tzdrag.PNG'\n",
    "tzfuben = 'screenshot/tzfb.PNG'\n",
    "emdrag = 'screenshot/emdrag.PNG'\n",
    "emfuben = 'screenshot/emfb.PNG'\n",
    "\n",
    "# 所有将要被运行副本的名字\n",
    "# 100级以前一共10个\n",
    "\n",
    "img_list = os.listdir('screenshot')\n",
    "allfuben = img_list[:9]"
   ]
  },
  {
   "cell_type": "code",
   "execution_count": 81,
   "metadata": {},
   "outputs": [
    {
     "data": {
      "text/plain": [
       "['002_guiguai.PNG',\n",
       " '003_xuanwu.PNG',\n",
       " '004_shiliu.PNG',\n",
       " '005_falao.PNG',\n",
       " '006_zhangyu.PNG',\n",
       " '007_gete.PNG',\n",
       " '008_longwang.PNG',\n",
       " '009_yanjiusuo.PNG']"
      ]
     },
     "execution_count": 81,
     "metadata": {},
     "output_type": "execute_result"
    }
   ],
   "source": [
    "putong = img_list[1:9]\n",
    "putong"
   ]
  },
  {
   "cell_type": "code",
   "execution_count": 79,
   "metadata": {},
   "outputs": [],
   "source": [
    "def func_runtime(func，limit=20):\n",
    "    start = datetime.now()\n",
    "    func()\n",
    "    runtime = datetime.now() - start\n",
    "    \n",
    "    print(runtime) "
   ]
  },
  {
   "cell_type": "code",
   "execution_count": 80,
   "metadata": {},
   "outputs": [
    {
     "name": "stdout",
     "output_type": "stream",
     "text": [
      "0:00:00\n"
     ]
    }
   ],
   "source": [
    "@func_runtime\n",
    "def p():\n",
    "    for i in range(20):\n",
    "        print('now')"
   ]
  },
  {
   "cell_type": "code",
   "execution_count": 78,
   "metadata": {},
   "outputs": [
    {
     "ename": "TypeError",
     "evalue": "'datetime.timedelta' object is not callable",
     "output_type": "error",
     "traceback": [
      "\u001b[1;31m---------------------------------------------------------------------------\u001b[0m",
      "\u001b[1;31mTypeError\u001b[0m                                 Traceback (most recent call last)",
      "Cell \u001b[1;32mIn[78], line 1\u001b[0m\n\u001b[1;32m----> 1\u001b[0m p()\n",
      "\u001b[1;31mTypeError\u001b[0m: 'datetime.timedelta' object is not callable"
     ]
    }
   ],
   "source": [
    "p()"
   ]
  },
  {
   "cell_type": "code",
   "execution_count": 42,
   "metadata": {},
   "outputs": [],
   "source": [
    "# 定义方程\n",
    "\n",
    "def FindBottom(img_path):\n",
    "    \"\"\"\n",
    "    在屏幕上寻找要点击的按钮\n",
    "\n",
    "    :param img_path: 按钮图片\n",
    "    :return: 按钮坐标\n",
    "    \"\"\"\n",
    "\n",
    "    time.sleep(0.5)\n",
    "    location = pyautogui.locateOnScreen(img_path, confidence=0.75)\n",
    "    if location is not None:\n",
    "        return location\n",
    "    else:\n",
    "        raise NoBottomFoundException\n",
    "\n",
    "def ClickBottom(img_path):\n",
    "    \"\"\"\n",
    "    点击找到的按钮\n",
    "    如果没有找到按钮，将持续寻找直至按钮出现\n",
    "    并确保每个按钮都已经被成功点击，且从屏幕上消失\n",
    "\n",
    "    :param img_path: 按钮图片\n",
    "    \"\"\"\n",
    "    def _ClickBottom(img_path):\n",
    "        location = FindBottom(img_path)\n",
    "        left, top, width, height = location\n",
    "        center = pyautogui.center((left, top, width, height))\n",
    "        pyautogui.click(center)\n",
    "    print(f\"{img_path} trying\")\n",
    "    while True:\n",
    "        try:\n",
    "            _ClickBottom(img_path)\n",
    "        except NoBottomFoundException:\n",
    "            continue\n",
    "        else:\n",
    "            try: \n",
    "                _ClickBottom(img_path)\n",
    "                return\n",
    "            except NoBottomFoundException:      \n",
    "                print(f\"{img_path} successful\")\n",
    "                return\n",
    "\n",
    "def ClickEnter(img_path = enter):\n",
    "    \"\"\"\n",
    "    点击“进入副本”按钮\n",
    "\n",
    "    :param img_path: “进入副本”按钮图片\n",
    "    \"\"\"\n",
    "    def _ClickEnter(img_path):\n",
    "        location = FindBottom(img_path)\n",
    "        left, top, width, height = location\n",
    "        center = pyautogui.center((left, top, width, height))\n",
    "        pyautogui.click(center)\n",
    "    print(f\"{img_path} trying\")\n",
    "    while True:\n",
    "        try:\n",
    "            _ClickEnter(img_path)\n",
    "        except NoBottomFoundException:\n",
    "            continue\n",
    "        else:\n",
    "            print(f\"{img_path} successful\")\n",
    "            return\n",
    "\n",
    "def Drag(img_path):\n",
    "    \"\"\"\n",
    "    向下拖动两次副本列表（本脚本中未被使用）\n",
    "    \n",
    "    :param img_path: 定位拖动起始坐标\n",
    "    \"\"\"\n",
    "    def _Drag(img_path):\n",
    "        location = FindBottom(img_path)\n",
    "        left, top, width, height = location\n",
    "        center = pyautogui.center((left, top, width, height))\n",
    "        x, y = center\n",
    "        pyautogui.click(x, y+100, clicks=1, duration=0.2)\n",
    "        pyautogui.dragRel(0, 200, duration=0.5)\n",
    "        pyautogui.moveTo(x, y+90, duration=0.2)  \n",
    "        pyautogui.dragRel(0, 200, duration=0.5)\n",
    "    print(f\"{img_path} trying\")\n",
    "    while True:\n",
    "        try:\n",
    "            _Drag(img_path)\n",
    "        except NoBottomFoundException:\n",
    "            continue\n",
    "        else:\n",
    "            print(f\"{img_path} successful\")\n",
    "            return"
   ]
  },
  {
   "cell_type": "code",
   "execution_count": 43,
   "metadata": {},
   "outputs": [],
   "source": [
    "def DragDown(img_path):\n",
    "    def _DragDown(img_path):\n",
    "        location = FindBottom(img_path)\n",
    "        left, top, width, height = location\n",
    "        center = pyautogui.center((left, top, width, height))\n",
    "        x, y = center\n",
    "        pyautogui.click(x, y+100, clicks=1, duration=0.2)\n",
    "        pyautogui.dragRel(0, 300, duration=0.5)\n",
    "        pyautogui.moveTo(x, y+90, duration=0.2)  \n",
    "        pyautogui.dragRel(0, 300, duration=0.5)\n",
    "    print(f\"{img_path} trying\")\n",
    "    while True:\n",
    "        try:\n",
    "            _DragDown(img_path)\n",
    "        except NoBottomFoundException:\n",
    "            continue\n",
    "        else:\n",
    "            print(f\"{img_path} successful\")\n",
    "            return\n",
    "\n",
    "def DragUp(img_path):\n",
    "    def _DragUp(img_path):\n",
    "        location = FindBottom(img_path)\n",
    "        left, top, width, height = location\n",
    "        center = pyautogui.center((left, top, width, height))\n",
    "        x, y = center\n",
    "        pyautogui.click(x, y+400, clicks=1, duration=0.2)\n",
    "        pyautogui.dragRel(0, -300, duration=0.5)\n",
    "        pyautogui.moveTo(x, y+390, duration=0.2)  \n",
    "        pyautogui.dragRel(0, -300, duration=0.5)\n",
    "    print(f\"{img_path} trying\")\n",
    "    while True:\n",
    "        try:\n",
    "            _DragUp(img_path)\n",
    "        except NoBottomFoundException:\n",
    "            continue\n",
    "        else:\n",
    "            print(f\"{img_path} successful\")\n",
    "            return\n",
    "            \n",
    "def FindFuben(img_path, drag_path):\n",
    "    try:\n",
    "        return FindBottom(img_path)\n",
    "    except NoBottomFoundException:\n",
    "        DragDown(drag_path)\n",
    "        try:\n",
    "            return FindBottom(img_path)\n",
    "        except NoBottomFoundException:\n",
    "            DragUp(drag_path)\n",
    "            return FindBottom(img_path)\n",
    "\n",
    "def FubenBottom(img_path, drag_path):\n",
    "    location = FindFuben(img_path, drag_path)\n",
    "    left, top, width, height = location\n",
    "    center = pyautogui.center((left, top, width, height))\n",
    "    pyautogui.click(center)\n",
    "    "
   ]
  },
  {
   "cell_type": "code",
   "execution_count": 44,
   "metadata": {},
   "outputs": [],
   "source": [
    "def Fuben(num, fuben_num, fuben_kind, drag_path):\n",
    "    \"\"\"\n",
    "    运行所有副本指定次数\n",
    "\n",
    "    :param num: 每个副本运行次数\n",
    "    :param fuben_num: 需要运行的副本（蛇龙、鬼怪……）\n",
    "    :param fuben_kind: 副本种类（普通、挑战、噩梦）\n",
    "    :param drag_path: 定位拖动起始坐标\n",
    "    \"\"\"\n",
    "    for i in fuben_num:\n",
    "        for j in range(1,num+1):\n",
    "            fuben_path = f'screenshot/{i}'\n",
    "            print(f\"**********{fuben_path} Started**********\")\n",
    "            ClickBottom(bottom_1)\n",
    "            ClickBottom(bottom_2)\n",
    "            ClickBottom(fuben_kind)\n",
    "            FubenBottom(fuben_path, drag_path)\n",
    "            ClickEnter() #副本\n",
    "            time.sleep(1)\n",
    "            \n",
    "            try:\n",
    "                if FindBottom(drag_path):\n",
    "                    #ClickBottom(close_1)\n",
    "                    ClickBottom(close_1)\n",
    "                    ClickBottom(bottom_3)\n",
    "                    break\n",
    "            except:\n",
    "                print(f'进入{i}副本，第{j}次')\n",
    "        \n",
    "            # 打副本\n",
    "            time.sleep(15)\n",
    "\n",
    "            ClickBottom(close_0)\n",
    "            time.sleep(1)\n",
    "            try:\n",
    "                if FindBottom(close_2):\n",
    "                    ClickBottom(close_2)\n",
    "                    time.sleep(0.5)\n",
    "                    ClickBottom(finsihed)\n",
    "            except:\n",
    "                ClickBottom(finsihed)\n",
    "            print('副本已关闭')\n",
    "            time.sleep(1)\n",
    "            print(f'**********{fuben_path} Finished**********')        \n",
    "        else:\n",
    "            continue"
   ]
  },
  {
   "cell_type": "code",
   "execution_count": 45,
   "metadata": {},
   "outputs": [],
   "source": [
    "def job():\n",
    "    \"\"\"\n",
    "    每日副本一条所有任务\n",
    "    普通、挑战副本各三次\n",
    "    噩梦副本一次\n",
    "    \n",
    "    \"\"\"\n",
    "    Fuben(3, allfuben, ptfuben, ptdrag)\n",
    "    #Fuben(3, allfuben, tzfuben, tzdrag)\n",
    "    #Fuben(1, allfuben, emfuben, emdrag)"
   ]
  },
  {
   "cell_type": "code",
   "execution_count": 46,
   "metadata": {},
   "outputs": [
    {
     "data": {
      "text/plain": [
       "48865"
      ]
     },
     "execution_count": 46,
     "metadata": {},
     "output_type": "execute_result"
    }
   ],
   "source": [
    "# 设定自动运行时间\n",
    "\n",
    "now = datetime.now()\n",
    "\n",
    "if now.hour > 5:\n",
    "    start_day = datetime.now().date()+ timedelta(days=1)\n",
    "    start_time = datetime(start_day.year, \\\n",
    "                        start_day.month, start_day.day, 5, 5)\n",
    "else:\n",
    "    start_time = datetime(now.year, now.month, now.day, 5, 5)\n",
    "\n",
    "diff = start_time - now\n",
    "diff.seconds\n"
   ]
  },
  {
   "cell_type": "code",
   "execution_count": 47,
   "metadata": {},
   "outputs": [],
   "source": [
    "# 运行\n",
    "\n",
    "#time.sleep(diff.seconds)\n",
    "#job()"
   ]
  },
  {
   "cell_type": "code",
   "execution_count": null,
   "metadata": {},
   "outputs": [],
   "source": []
  },
  {
   "cell_type": "code",
   "execution_count": 54,
   "metadata": {},
   "outputs": [
    {
     "name": "stdout",
     "output_type": "stream",
     "text": [
      "0 Box(left=1817, top=463, width=48, height=41)\n",
      "1 Box(left=1817, top=463, width=48, height=41)\n",
      "2 Box(left=1817, top=463, width=48, height=41)\n",
      "3 Box(left=1817, top=463, width=48, height=41)\n",
      "4 Box(left=1817, top=463, width=48, height=41)\n",
      "5 Box(left=1817, top=463, width=48, height=41)\n",
      "6 Box(left=1817, top=463, width=48, height=41)\n",
      "7 Box(left=1817, top=463, width=48, height=41)\n",
      "8 Box(left=1817, top=463, width=48, height=41)\n"
     ]
    },
    {
     "ename": "NoBottomFoundException",
     "evalue": "",
     "output_type": "error",
     "traceback": [
      "\u001b[1;31m---------------------------------------------------------------------------\u001b[0m",
      "\u001b[1;31mNoBottomFoundException\u001b[0m                    Traceback (most recent call last)",
      "Cell \u001b[1;32mIn[54], line 2\u001b[0m\n\u001b[0;32m      1\u001b[0m \u001b[39mfor\u001b[39;00m i \u001b[39min\u001b[39;00m \u001b[39mrange\u001b[39m(\u001b[39m100\u001b[39m):\n\u001b[1;32m----> 2\u001b[0m     \u001b[39mprint\u001b[39m(i,FindBottom(finsihed))\n",
      "Cell \u001b[1;32mIn[42], line 16\u001b[0m, in \u001b[0;36mFindBottom\u001b[1;34m(img_path)\u001b[0m\n\u001b[0;32m     14\u001b[0m     \u001b[39mreturn\u001b[39;00m location\n\u001b[0;32m     15\u001b[0m \u001b[39melse\u001b[39;00m:\n\u001b[1;32m---> 16\u001b[0m     \u001b[39mraise\u001b[39;00m NoBottomFoundException\n",
      "\u001b[1;31mNoBottomFoundException\u001b[0m: "
     ]
    }
   ],
   "source": [
    "for i in range(100):\n",
    "    print(i,FindBottom(finsihed))\n",
    "\n"
   ]
  },
  {
   "cell_type": "markdown",
   "metadata": {},
   "source": []
  }
 ],
 "metadata": {
  "kernelspec": {
   "display_name": "my-env",
   "language": "python",
   "name": "python3"
  },
  "language_info": {
   "codemirror_mode": {
    "name": "ipython",
    "version": 3
   },
   "file_extension": ".py",
   "mimetype": "text/x-python",
   "name": "python",
   "nbconvert_exporter": "python",
   "pygments_lexer": "ipython3",
   "version": "3.11.1"
  },
  "orig_nbformat": 4,
  "vscode": {
   "interpreter": {
    "hash": "ab750710d54c95540bf9fd13ac8adfbb2296d05e1719fc43b0873778d6543879"
   }
  }
 },
 "nbformat": 4,
 "nbformat_minor": 2
}
