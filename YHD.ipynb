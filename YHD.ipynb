{
 "cells": [
  {
   "cell_type": "code",
   "execution_count": 1,
   "metadata": {},
   "outputs": [],
   "source": [
    "import cv2\n",
    "import numpy as np"
   ]
  },
  {
   "cell_type": "code",
   "execution_count": 32,
   "metadata": {},
   "outputs": [],
   "source": [
    "from datetime import datetime\n",
    "start = datetime.now() "
   ]
  },
  {
   "cell_type": "code",
   "execution_count": 33,
   "metadata": {},
   "outputs": [],
   "source": [
    "end = datetime.now()"
   ]
  },
  {
   "cell_type": "code",
   "execution_count": 35,
   "metadata": {},
   "outputs": [
    {
     "data": {
      "text/plain": [
       "5"
      ]
     },
     "execution_count": 35,
     "metadata": {},
     "output_type": "execute_result"
    }
   ],
   "source": [
    "(end - start).seconds"
   ]
  },
  {
   "cell_type": "code",
   "execution_count": 37,
   "metadata": {},
   "outputs": [],
   "source": [
    "from datetime import datetime\n",
    "start = datetime.now()\n",
    "while True:\n",
    "    now = datetime.now()\n",
    "    if (now - start).seconds > 10:\n",
    "        break"
   ]
  },
  {
   "cell_type": "code",
   "execution_count": 43,
   "metadata": {},
   "outputs": [],
   "source": [
    "pic = re.findall(r'screenshot/(.+)\\.', 'screenshot/asd.sd')[0]"
   ]
  },
  {
   "cell_type": "code",
   "execution_count": 44,
   "metadata": {},
   "outputs": [],
   "source": [
    "import re\n",
    "import logging\n",
    "logging.info(f\"{pic} trying\")\n"
   ]
  },
  {
   "cell_type": "code",
   "execution_count": null,
   "metadata": {},
   "outputs": [],
   "source": [
    "def break_fun():\n",
    "    "
   ]
  },
  {
   "cell_type": "code",
   "execution_count": 2,
   "metadata": {},
   "outputs": [],
   "source": [
    "home_img = cv2.imread('screenshot/00.PNG', cv2.IMREAD_UNCHANGED)\n",
    "bottom_img = cv2.imread('screenshot/01.PNG', cv2.IMREAD_UNCHANGED)"
   ]
  },
  {
   "cell_type": "code",
   "execution_count": 6,
   "metadata": {},
   "outputs": [],
   "source": [
    "cv2.imshow('Home', cv2.imread('screenshot/finished.PNG', cv2.IMREAD_UNCHANGED))\n",
    "cv2.waitKey()\n",
    "cv2.destroyAllWindows()"
   ]
  },
  {
   "cell_type": "code",
   "execution_count": 57,
   "metadata": {},
   "outputs": [],
   "source": [
    "cv2.imshow('Bottom', bottom_img)\n",
    "cv2.waitKey()\n",
    "cv2.destroyAllWindows()"
   ]
  },
  {
   "cell_type": "code",
   "execution_count": 58,
   "metadata": {},
   "outputs": [],
   "source": [
    "result = cv2.matchTemplate(home_img, bottom_img, cv2.TM_CCOEFF_NORMED)"
   ]
  },
  {
   "cell_type": "code",
   "execution_count": 12,
   "metadata": {},
   "outputs": [],
   "source": [
    "cv2.imshow('Result', result)\n",
    "cv2.waitKey()\n",
    "cv2.destroyAllWindows()"
   ]
  },
  {
   "cell_type": "code",
   "execution_count": 13,
   "metadata": {},
   "outputs": [],
   "source": [
    "min_val, max_val, min_loc, max_loc = cv2.minMaxLoc(result)"
   ]
  },
  {
   "cell_type": "code",
   "execution_count": 61,
   "metadata": {},
   "outputs": [
    {
     "data": {
      "text/plain": [
       "(1539, 225)"
      ]
     },
     "execution_count": 61,
     "metadata": {},
     "output_type": "execute_result"
    }
   ],
   "source": [
    "max_loc"
   ]
  },
  {
   "cell_type": "code",
   "execution_count": 20,
   "metadata": {},
   "outputs": [],
   "source": [
    "h = bottom_img.shape[0]\n",
    "w = bottom_img.shape[1]"
   ]
  },
  {
   "cell_type": "code",
   "execution_count": 24,
   "metadata": {},
   "outputs": [
    {
     "data": {
      "text/plain": [
       "array([[[  6,  14,  33, 255],\n",
       "        [  7,  16,  34, 255],\n",
       "        [  8,  17,  35, 255],\n",
       "        ...,\n",
       "        [109, 139, 168, 255],\n",
       "        [109, 139, 169, 255],\n",
       "        [109, 139, 169, 255]],\n",
       "\n",
       "       [[  7,  14,  31, 255],\n",
       "        [ 11,  18,  35, 255],\n",
       "        [ 12,  20,  36, 255],\n",
       "        ...,\n",
       "        [109, 139, 168, 255],\n",
       "        [109, 139, 168, 255],\n",
       "        [109, 139, 168, 255]],\n",
       "\n",
       "       [[ 12,  15,  25, 255],\n",
       "        [ 17,  20,  30, 255],\n",
       "        [ 22,  25,  36, 255],\n",
       "        ...,\n",
       "        [109, 139, 167, 255],\n",
       "        [109, 139, 167, 255],\n",
       "        [109, 139, 167, 255]],\n",
       "\n",
       "       ...,\n",
       "\n",
       "       [[182, 183, 186, 255],\n",
       "        [181, 183, 186, 255],\n",
       "        [181, 183, 186, 255],\n",
       "        ...,\n",
       "        [  2,   2,   2, 255],\n",
       "        [  2,   2,   2, 255],\n",
       "        [  2,   2,   2, 255]],\n",
       "\n",
       "       [[182, 183, 186, 255],\n",
       "        [181, 183, 186, 255],\n",
       "        [181, 183, 186, 255],\n",
       "        ...,\n",
       "        [  2,   2,   2, 255],\n",
       "        [  2,   2,   2, 255],\n",
       "        [  2,   2,   2, 255]],\n",
       "\n",
       "       [[182, 183, 186, 255],\n",
       "        [181, 183, 186, 255],\n",
       "        [181, 183, 186, 255],\n",
       "        ...,\n",
       "        [  2,   2,   2, 255],\n",
       "        [  2,   2,   2, 255],\n",
       "        [  2,   2,   2, 255]]], dtype=uint8)"
      ]
     },
     "execution_count": 24,
     "metadata": {},
     "output_type": "execute_result"
    }
   ],
   "source": [
    "cv2.rectangle(home_img, max_loc, (max_loc[0] + w, max_loc[1]+ h ), (0,255,255),2)"
   ]
  },
  {
   "cell_type": "code",
   "execution_count": 28,
   "metadata": {},
   "outputs": [],
   "source": [
    "import pyautogui"
   ]
  },
  {
   "cell_type": "code",
   "execution_count": 29,
   "metadata": {},
   "outputs": [],
   "source": [
    "sizex, sizey = pyautogui.size()"
   ]
  },
  {
   "cell_type": "code",
   "execution_count": 34,
   "metadata": {},
   "outputs": [
    {
     "data": {
      "text/plain": [
       "(1920, 1080)"
      ]
     },
     "execution_count": 34,
     "metadata": {},
     "output_type": "execute_result"
    }
   ],
   "source": [
    "sizex, sizey"
   ]
  },
  {
   "cell_type": "code",
   "execution_count": 112,
   "metadata": {},
   "outputs": [
    {
     "data": {
      "text/plain": [
       "Point(x=847, y=107)"
      ]
     },
     "execution_count": 112,
     "metadata": {},
     "output_type": "execute_result"
    }
   ],
   "source": [
    "pyautogui.position()"
   ]
  },
  {
   "cell_type": "code",
   "execution_count": 113,
   "metadata": {},
   "outputs": [
    {
     "data": {
      "text/plain": [
       "Point(x=842, y=202)"
      ]
     },
     "execution_count": 113,
     "metadata": {},
     "output_type": "execute_result"
    }
   ],
   "source": [
    "pyautogui.position()"
   ]
  },
  {
   "cell_type": "code",
   "execution_count": 36,
   "metadata": {},
   "outputs": [],
   "source": [
    "pyautogui.click(32,1052, clicks=1, duration=0.2)"
   ]
  },
  {
   "cell_type": "code",
   "execution_count": 50,
   "metadata": {},
   "outputs": [],
   "source": [
    "pyautogui.click(241,605, clicks=1, duration=0.2)\n",
    "pyautogui.dragRel(0, 200, duration=0.5)\n",
    "pyautogui.moveTo(241,605,duration=0.2)  \n",
    "pyautogui.dragRel(0, 200, duration=0.5)\n"
   ]
  },
  {
   "cell_type": "code",
   "execution_count": 51,
   "metadata": {},
   "outputs": [],
   "source": [
    "import time"
   ]
  },
  {
   "cell_type": "code",
   "execution_count": 100,
   "metadata": {},
   "outputs": [],
   "source": [
    "def fuben(img_path):\n",
    "    time.sleep(0.5)\n",
    "    location = pyautogui.locateOnScreen(img_path, confidence=0.8)\n",
    "    if location is not None:\n",
    "        left, top, width, height = location\n",
    "        center = pyautogui.center((left, top, width, height))\n",
    "        print(center)\n",
    "        pyautogui.click(center)\n",
    "        print('进入副本')\n",
    "    else:\n",
    "        print('location not found on screen')\n"
   ]
  },
  {
   "cell_type": "code",
   "execution_count": 119,
   "metadata": {},
   "outputs": [],
   "source": [
    "def drag(img_path):\n",
    "    time.sleep(0.5)\n",
    "    location = pyautogui.locateOnScreen(img_path, confidence=0.8)\n",
    "    left, top, width, height = location\n",
    "    center = pyautogui.center((left, top, width, height))\n",
    "    print(center)\n",
    "    x, y = center\n",
    "    pyautogui.click(x, y+100, clicks=1, duration=0.2)\n",
    "    pyautogui.dragRel(0, 200, duration=0.5)\n",
    "    pyautogui.moveTo(x, y+90, duration=0.2)  \n",
    "    pyautogui.dragRel(0, 200, duration=0.5)\n"
   ]
  },
  {
   "cell_type": "code",
   "execution_count": 121,
   "metadata": {},
   "outputs": [
    {
     "name": "stdout",
     "output_type": "stream",
     "text": [
      "Point(x=206, y=533)\n"
     ]
    }
   ],
   "source": [
    "drag('screenshot/drag.PNG')"
   ]
  },
  {
   "cell_type": "code",
   "execution_count": 105,
   "metadata": {},
   "outputs": [],
   "source": [
    "import os"
   ]
  },
  {
   "cell_type": "code",
   "execution_count": 108,
   "metadata": {},
   "outputs": [],
   "source": [
    "img_list = os.listdir('screenshot')"
   ]
  },
  {
   "cell_type": "code",
   "execution_count": 109,
   "metadata": {},
   "outputs": [
    {
     "name": "stdout",
     "output_type": "stream",
     "text": [
      "location not found on screen\n",
      "Point(x=1694, y=291)\n",
      "进入副本\n",
      "Point(x=1573, y=399)\n",
      "进入副本\n",
      "Point(x=436, y=257)\n",
      "进入副本\n",
      "Point(x=446, y=256)\n",
      "进入副本\n"
     ]
    }
   ],
   "source": [
    "for img in img_list:\n",
    "    img_path = f'screenshot/{img}'\n",
    "    fuben(img_path)"
   ]
  },
  {
   "cell_type": "code",
   "execution_count": 111,
   "metadata": {},
   "outputs": [
    {
     "name": "stdout",
     "output_type": "stream",
     "text": [
      "abc0\n",
      "abc1\n",
      "abc2\n"
     ]
    }
   ],
   "source": [
    "for i in range(3):\n",
    "    print(f'abc{i}')"
   ]
  },
  {
   "cell_type": "code",
   "execution_count": 1,
   "metadata": {},
   "outputs": [],
   "source": [
    "bottom_1 = 'screenshot/00.PNG'\n"
   ]
  },
  {
   "cell_type": "code",
   "execution_count": 1,
   "metadata": {},
   "outputs": [],
   "source": [
    "img_list = os.listdir('screenshot')"
   ]
  },
  {
   "cell_type": "code",
   "execution_count": 4,
   "metadata": {},
   "outputs": [
    {
     "data": {
      "text/plain": [
       "['00.PNG',\n",
       " '01.PNG',\n",
       " '03.PNG',\n",
       " '04.PNG',\n",
       " '05.PNG',\n",
       " '06.PNG',\n",
       " '07.PNG',\n",
       " '08.PNG',\n",
       " '09.PNG']"
      ]
     },
     "execution_count": 4,
     "metadata": {},
     "output_type": "execute_result"
    }
   ],
   "source": [
    "img_list[:9]"
   ]
  },
  {
   "cell_type": "code",
   "execution_count": null,
   "metadata": {},
   "outputs": [],
   "source": [
    "# 进入普通副本\n",
    "\n",
    "for i in fuben:\n",
    "    for j in range(3):\n",
    "        fuben_path = f'screenshot/{i}'\n",
    "        print(f\"**********{fuben_path} Started**********\")\n",
    "        ClickBottom(bottom_1)\n",
    "        ClickBottom(bottom_2)\n",
    "        ClickBottom(putong)\n",
    "        FubenBottom(fuben_path,ptdrag)\n",
    "        ClickBottom(enter) #副本\n",
    "        time.sleep(1)\n",
    "        try:\n",
    "            if FindBottom(ptdrag):\n",
    "                ClickBottom(close_1)            \n",
    "        print('已进入副本')\n",
    "        \n",
    "        # 打副本\n",
    "        time.sleep(3)\n",
    "\n",
    "        ClickBottom(close_1)\n",
    "        time.sleep(1.5)\n",
    "        try:\n",
    "            if FindBottom(close_2):\n",
    "                ClickBottom(close_2)\n",
    "                time.sleep(1)\n",
    "                ClickBottom(finsihed)\n",
    "        except:\n",
    "            ClickBottom(finsihed)\n",
    "        print('副本已关闭')\n",
    "        time.sleep(5)\n",
    "        print(f'**********{fuben_path} Finished**********')"
   ]
  }
 ],
 "metadata": {
  "kernelspec": {
   "display_name": "my-env",
   "language": "python",
   "name": "python3"
  },
  "language_info": {
   "codemirror_mode": {
    "name": "ipython",
    "version": 3
   },
   "file_extension": ".py",
   "mimetype": "text/x-python",
   "name": "python",
   "nbconvert_exporter": "python",
   "pygments_lexer": "ipython3",
   "version": "3.11.1"
  },
  "orig_nbformat": 4,
  "vscode": {
   "interpreter": {
    "hash": "ab750710d54c95540bf9fd13ac8adfbb2296d05e1719fc43b0873778d6543879"
   }
  }
 },
 "nbformat": 4,
 "nbformat_minor": 2
}
